{
 "cells": [
  {
   "attachments": {},
   "cell_type": "markdown",
   "metadata": {},
   "source": [
    "# Database Search"
   ]
  },
  {
   "attachments": {},
   "cell_type": "markdown",
   "metadata": {},
   "source": [
    "*By Hannes Hedberg*"
   ]
  },
  {
   "attachments": {},
   "cell_type": "markdown",
   "metadata": {},
   "source": [
    "---"
   ]
  },
  {
   "attachments": {},
   "cell_type": "markdown",
   "metadata": {},
   "source": [
    "## 1. Pyodbc"
   ]
  },
  {
   "attachments": {},
   "cell_type": "markdown",
   "metadata": {},
   "source": [
    "Reading alot about Pyodbc I managed to solve the assignment in pyodbc, before i realised it *had* to be solved using SQLAlchemy, so I decided to include it below. "
   ]
  },
  {
   "cell_type": "code",
   "execution_count": 1,
   "metadata": {},
   "outputs": [
    {
     "name": "stdout",
     "output_type": "stream",
     "text": [
      "Title: Harry Potter and the Deathly Hallows\n",
      "Store Name: The Page Sage\n",
      "Number of Copies: 9\n",
      "\n",
      "Title: Harry Potter and the Prisoner of Azkaban\n",
      "Store Name: The Page Sage\n",
      "Number of Copies: 10\n",
      "\n",
      "Title: Harry Potter and the Philosopher's Stone\n",
      "Store Name: Once Upon A Time\n",
      "Number of Copies: 9\n",
      "\n",
      "Title: Harry Potter and the Chamber of Secrets\n",
      "Store Name: Once Upon A Time\n",
      "Number of Copies: 9\n",
      "\n",
      "Title: Harry Potter and the Goblet of Fire\n",
      "Store Name: Turn The Page\n",
      "Number of Copies: 10\n",
      "\n",
      "Title: Harry Potter and the Half-Blood Prince\n",
      "Store Name: Turn The Page\n",
      "Number of Copies: 15\n",
      "\n",
      "Title: Harry Potter and the Order of Phoenix\n",
      "Store Name: The Lore Store\n",
      "Number of Copies: 11\n",
      "\n"
     ]
    }
   ],
   "source": [
    "import pyodbc\n",
    "\n",
    "def search_books_by_title(title):\n",
    "    # Establish a connection to the database\n",
    "    server = 'Hannes-PC'\n",
    "    database = 'HannesHedberg'\n",
    "    connection_string = f\"DRIVER={{SQL Server}};SERVER={server};DATABASE={database};Trusted_Connection=yes;\"\n",
    "    conn = pyodbc.connect(connection_string)\n",
    "\n",
    "    # Create a cursor object\n",
    "    cursor = conn.cursor()\n",
    "\n",
    "    # Prepare the SQL query\n",
    "    query = \"\"\"\n",
    "    SELECT b.Title, s.Name AS StoreName, i.Num AS Number\n",
    "    FROM Book b\n",
    "    JOIN Inventory i ON i.ISBN13 = b.ISBN13\n",
    "    JOIN Store s ON s.StoreID = i.StoreID\n",
    "    WHERE b.Title LIKE ?\n",
    "    \"\"\"\n",
    "\n",
    "    # Execute the query with the provided title parameter\n",
    "    cursor.execute(query, ('%' + title + '%',))\n",
    "\n",
    "    # Fetch all the rows as a list of tuples\n",
    "    rows = cursor.fetchall()\n",
    "\n",
    "    # Close the cursor and connection\n",
    "    cursor.close()\n",
    "    conn.close()\n",
    "\n",
    "    # Return the search results\n",
    "    return rows\n",
    "\n",
    "# Example usage: Search for books by title and get available copies in each store\n",
    "search_title = input(\"Enter a book title to search: \")\n",
    "books = search_books_by_title(search_title)\n",
    "\n",
    "# Display the search results\n",
    "for book in books:\n",
    "    print(\"Title:\", book.Title)\n",
    "    print(\"Store Name:\", book.StoreName)\n",
    "    print(\"Number of Copies:\", book.Number)\n",
    "    print()"
   ]
  },
  {
   "attachments": {},
   "cell_type": "markdown",
   "metadata": {},
   "source": [
    "---"
   ]
  },
  {
   "attachments": {},
   "cell_type": "markdown",
   "metadata": {},
   "source": [
    "## 2. SQL - Alchemy"
   ]
  },
  {
   "attachments": {},
   "cell_type": "markdown",
   "metadata": {},
   "source": [
    "Solving it using SQLAlchemy instead, and it seems to be working most of the time. But sometimes it gives me a driver error, not sure whats causing this. If im using outdated code, and perhaps some of it is no longer included in the latest versions? Or if my own software is outdated. If there is an error when you run it please help me understand why."
   ]
  },
  {
   "cell_type": "code",
   "execution_count": 2,
   "metadata": {},
   "outputs": [
    {
     "ename": "DBAPIError",
     "evalue": "(pyodbc.Error) ('HY104', '[HY104] [Microsoft][ODBC SQL Server Driver]Ogiltigt precisionsvärde (0) (SQLBindParameter)')\n[SQL: SELECT [INFORMATION_SCHEMA].[TABLES].[TABLE_NAME] \nFROM [INFORMATION_SCHEMA].[TABLES] \nWHERE [INFORMATION_SCHEMA].[TABLES].[TABLE_SCHEMA] = CAST(? AS NVARCHAR(max)) AND [INFORMATION_SCHEMA].[TABLES].[TABLE_TYPE] = CAST(? AS NVARCHAR(max)) ORDER BY [INFORMATION_SCHEMA].[TABLES].[TABLE_NAME]]\n[parameters: ('dbo', 'BASE TABLE')]\n(Background on this error at: https://sqlalche.me/e/20/dbapi)",
     "output_type": "error",
     "traceback": [
      "\u001b[1;31m---------------------------------------------------------------------------\u001b[0m",
      "\u001b[1;31mError\u001b[0m                                     Traceback (most recent call last)",
      "File \u001b[1;32mc:\\Users\\user\\AppData\\Local\\Programs\\Python\\Python39\\lib\\site-packages\\sqlalchemy\\engine\\base.py:1963\u001b[0m, in \u001b[0;36mConnection._exec_single_context\u001b[1;34m(self, dialect, context, statement, parameters)\u001b[0m\n\u001b[0;32m   1962\u001b[0m     \u001b[39mif\u001b[39;00m \u001b[39mnot\u001b[39;00m evt_handled:\n\u001b[1;32m-> 1963\u001b[0m         \u001b[39mself\u001b[39;49m\u001b[39m.\u001b[39;49mdialect\u001b[39m.\u001b[39;49mdo_execute(\n\u001b[0;32m   1964\u001b[0m             cursor, str_statement, effective_parameters, context\n\u001b[0;32m   1965\u001b[0m         )\n\u001b[0;32m   1967\u001b[0m \u001b[39mif\u001b[39;00m \u001b[39mself\u001b[39m\u001b[39m.\u001b[39m_has_events \u001b[39mor\u001b[39;00m \u001b[39mself\u001b[39m\u001b[39m.\u001b[39mengine\u001b[39m.\u001b[39m_has_events:\n",
      "File \u001b[1;32mc:\\Users\\user\\AppData\\Local\\Programs\\Python\\Python39\\lib\\site-packages\\sqlalchemy\\engine\\default.py:920\u001b[0m, in \u001b[0;36mDefaultDialect.do_execute\u001b[1;34m(self, cursor, statement, parameters, context)\u001b[0m\n\u001b[0;32m    919\u001b[0m \u001b[39mdef\u001b[39;00m \u001b[39mdo_execute\u001b[39m(\u001b[39mself\u001b[39m, cursor, statement, parameters, context\u001b[39m=\u001b[39m\u001b[39mNone\u001b[39;00m):\n\u001b[1;32m--> 920\u001b[0m     cursor\u001b[39m.\u001b[39;49mexecute(statement, parameters)\n",
      "\u001b[1;31mError\u001b[0m: ('HY104', '[HY104] [Microsoft][ODBC SQL Server Driver]Ogiltigt precisionsvärde (0) (SQLBindParameter)')",
      "\nThe above exception was the direct cause of the following exception:\n",
      "\u001b[1;31mDBAPIError\u001b[0m                                Traceback (most recent call last)",
      "\u001b[1;32mc:\\Users\\user\\Desktop\\Github\\Databaser-Hannes-Hedberg\\Labb2\\Python\\bookstore_search.ipynb Cell 10\u001b[0m in \u001b[0;36m<cell line: 35>\u001b[1;34m()\u001b[0m\n\u001b[0;32m     <a href='vscode-notebook-cell:/c%3A/Users/user/Desktop/Github/Databaser-Hannes-Hedberg/Labb2/Python/bookstore_search.ipynb#X12sZmlsZQ%3D%3D?line=32'>33</a>\u001b[0m \u001b[39m# Example usage: Search for books by title and get available copies in each store\u001b[39;00m\n\u001b[0;32m     <a href='vscode-notebook-cell:/c%3A/Users/user/Desktop/Github/Databaser-Hannes-Hedberg/Labb2/Python/bookstore_search.ipynb#X12sZmlsZQ%3D%3D?line=33'>34</a>\u001b[0m search_title \u001b[39m=\u001b[39m \u001b[39minput\u001b[39m(\u001b[39m\"\u001b[39m\u001b[39mEnter a book title to search: \u001b[39m\u001b[39m\"\u001b[39m)\n\u001b[1;32m---> <a href='vscode-notebook-cell:/c%3A/Users/user/Desktop/Github/Databaser-Hannes-Hedberg/Labb2/Python/bookstore_search.ipynb#X12sZmlsZQ%3D%3D?line=34'>35</a>\u001b[0m books \u001b[39m=\u001b[39m search_books_by_title(search_title)\n\u001b[0;32m     <a href='vscode-notebook-cell:/c%3A/Users/user/Desktop/Github/Databaser-Hannes-Hedberg/Labb2/Python/bookstore_search.ipynb#X12sZmlsZQ%3D%3D?line=36'>37</a>\u001b[0m \u001b[39m# Display the search results\u001b[39;00m\n\u001b[0;32m     <a href='vscode-notebook-cell:/c%3A/Users/user/Desktop/Github/Databaser-Hannes-Hedberg/Labb2/Python/bookstore_search.ipynb#X12sZmlsZQ%3D%3D?line=37'>38</a>\u001b[0m \u001b[39mfor\u001b[39;00m book \u001b[39min\u001b[39;00m books:\n",
      "\u001b[1;32mc:\\Users\\user\\Desktop\\Github\\Databaser-Hannes-Hedberg\\Labb2\\Python\\bookstore_search.ipynb Cell 10\u001b[0m in \u001b[0;36msearch_books_by_title\u001b[1;34m(title)\u001b[0m\n\u001b[0;32m     <a href='vscode-notebook-cell:/c%3A/Users/user/Desktop/Github/Databaser-Hannes-Hedberg/Labb2/Python/bookstore_search.ipynb#X12sZmlsZQ%3D%3D?line=9'>10</a>\u001b[0m \u001b[39m# Define metadata and reflect the tables\u001b[39;00m\n\u001b[0;32m     <a href='vscode-notebook-cell:/c%3A/Users/user/Desktop/Github/Databaser-Hannes-Hedberg/Labb2/Python/bookstore_search.ipynb#X12sZmlsZQ%3D%3D?line=10'>11</a>\u001b[0m metadata \u001b[39m=\u001b[39m MetaData()\n\u001b[1;32m---> <a href='vscode-notebook-cell:/c%3A/Users/user/Desktop/Github/Databaser-Hannes-Hedberg/Labb2/Python/bookstore_search.ipynb#X12sZmlsZQ%3D%3D?line=11'>12</a>\u001b[0m metadata\u001b[39m.\u001b[39;49mreflect(bind\u001b[39m=\u001b[39;49mengine)\n\u001b[0;32m     <a href='vscode-notebook-cell:/c%3A/Users/user/Desktop/Github/Databaser-Hannes-Hedberg/Labb2/Python/bookstore_search.ipynb#X12sZmlsZQ%3D%3D?line=13'>14</a>\u001b[0m \u001b[39m# Get the table objects\u001b[39;00m\n\u001b[0;32m     <a href='vscode-notebook-cell:/c%3A/Users/user/Desktop/Github/Databaser-Hannes-Hedberg/Labb2/Python/bookstore_search.ipynb#X12sZmlsZQ%3D%3D?line=14'>15</a>\u001b[0m Book \u001b[39m=\u001b[39m Table(\u001b[39m'\u001b[39m\u001b[39mBook\u001b[39m\u001b[39m'\u001b[39m, metadata, autoload\u001b[39m=\u001b[39m\u001b[39mTrue\u001b[39;00m)\n",
      "File \u001b[1;32mc:\\Users\\user\\AppData\\Local\\Programs\\Python\\Python39\\lib\\site-packages\\sqlalchemy\\sql\\schema.py:5709\u001b[0m, in \u001b[0;36mMetaData.reflect\u001b[1;34m(self, bind, schema, views, only, extend_existing, autoload_replace, resolve_fks, **dialect_kwargs)\u001b[0m\n\u001b[0;32m   5705\u001b[0m     reflect_opts[\u001b[39m\"\u001b[39m\u001b[39mschema\u001b[39m\u001b[39m\"\u001b[39m] \u001b[39m=\u001b[39m schema\n\u001b[0;32m   5707\u001b[0m kind \u001b[39m=\u001b[39m util\u001b[39m.\u001b[39mpreloaded\u001b[39m.\u001b[39mengine_reflection\u001b[39m.\u001b[39mObjectKind\u001b[39m.\u001b[39mTABLE\n\u001b[0;32m   5708\u001b[0m available: util\u001b[39m.\u001b[39mOrderedSet[\u001b[39mstr\u001b[39m] \u001b[39m=\u001b[39m util\u001b[39m.\u001b[39mOrderedSet(\n\u001b[1;32m-> 5709\u001b[0m     insp\u001b[39m.\u001b[39;49mget_table_names(schema)\n\u001b[0;32m   5710\u001b[0m )\n\u001b[0;32m   5711\u001b[0m \u001b[39mif\u001b[39;00m views:\n\u001b[0;32m   5712\u001b[0m     kind \u001b[39m=\u001b[39m util\u001b[39m.\u001b[39mpreloaded\u001b[39m.\u001b[39mengine_reflection\u001b[39m.\u001b[39mObjectKind\u001b[39m.\u001b[39mANY\n",
      "File \u001b[1;32mc:\\Users\\user\\AppData\\Local\\Programs\\Python\\Python39\\lib\\site-packages\\sqlalchemy\\engine\\reflection.py:397\u001b[0m, in \u001b[0;36mInspector.get_table_names\u001b[1;34m(self, schema, **kw)\u001b[0m\n\u001b[0;32m    371\u001b[0m \u001b[39mr\u001b[39m\u001b[39m\"\"\"Return all table names within a particular schema.\u001b[39;00m\n\u001b[0;32m    372\u001b[0m \n\u001b[0;32m    373\u001b[0m \u001b[39mThe names are expected to be real tables only, not views.\u001b[39;00m\n\u001b[1;32m   (...)\u001b[0m\n\u001b[0;32m    393\u001b[0m \n\u001b[0;32m    394\u001b[0m \u001b[39m\"\"\"\u001b[39;00m\n\u001b[0;32m    396\u001b[0m \u001b[39mwith\u001b[39;00m \u001b[39mself\u001b[39m\u001b[39m.\u001b[39m_operation_context() \u001b[39mas\u001b[39;00m conn:\n\u001b[1;32m--> 397\u001b[0m     \u001b[39mreturn\u001b[39;00m \u001b[39mself\u001b[39m\u001b[39m.\u001b[39mdialect\u001b[39m.\u001b[39mget_table_names(\n\u001b[0;32m    398\u001b[0m         conn, schema, info_cache\u001b[39m=\u001b[39m\u001b[39mself\u001b[39m\u001b[39m.\u001b[39minfo_cache, \u001b[39m*\u001b[39m\u001b[39m*\u001b[39mkw\n\u001b[0;32m    399\u001b[0m     )\n",
      "File \u001b[1;32m<string>:2\u001b[0m, in \u001b[0;36mget_table_names\u001b[1;34m(dialect, connection, schema, **kw)\u001b[0m\n",
      "File \u001b[1;32mc:\\Users\\user\\AppData\\Local\\Programs\\Python\\Python39\\lib\\site-packages\\sqlalchemy\\engine\\reflection.py:97\u001b[0m, in \u001b[0;36mcache\u001b[1;34m(fn, self, con, *args, **kw)\u001b[0m\n\u001b[0;32m     95\u001b[0m ret: _R \u001b[39m=\u001b[39m info_cache\u001b[39m.\u001b[39mget(key)\n\u001b[0;32m     96\u001b[0m \u001b[39mif\u001b[39;00m ret \u001b[39mis\u001b[39;00m \u001b[39mNone\u001b[39;00m:\n\u001b[1;32m---> 97\u001b[0m     ret \u001b[39m=\u001b[39m fn(\u001b[39mself\u001b[39m, con, \u001b[39m*\u001b[39margs, \u001b[39m*\u001b[39m\u001b[39m*\u001b[39mkw)\n\u001b[0;32m     98\u001b[0m     info_cache[key] \u001b[39m=\u001b[39m ret\n\u001b[0;32m     99\u001b[0m \u001b[39mreturn\u001b[39;00m ret\n",
      "File \u001b[1;32mc:\\Users\\user\\AppData\\Local\\Programs\\Python\\Python39\\lib\\site-packages\\sqlalchemy\\dialects\\mssql\\base.py:2870\u001b[0m, in \u001b[0;36m_db_plus_owner_listing.<locals>.wrap\u001b[1;34m(dialect, connection, schema, **kw)\u001b[0m\n\u001b[0;32m   2868\u001b[0m \u001b[39mdef\u001b[39;00m \u001b[39mwrap\u001b[39m(dialect, connection, schema\u001b[39m=\u001b[39m\u001b[39mNone\u001b[39;00m, \u001b[39m*\u001b[39m\u001b[39m*\u001b[39mkw):\n\u001b[0;32m   2869\u001b[0m     dbname, owner \u001b[39m=\u001b[39m _owner_plus_db(dialect, schema)\n\u001b[1;32m-> 2870\u001b[0m     \u001b[39mreturn\u001b[39;00m _switch_db(\n\u001b[0;32m   2871\u001b[0m         dbname,\n\u001b[0;32m   2872\u001b[0m         connection,\n\u001b[0;32m   2873\u001b[0m         fn,\n\u001b[0;32m   2874\u001b[0m         dialect,\n\u001b[0;32m   2875\u001b[0m         connection,\n\u001b[0;32m   2876\u001b[0m         dbname,\n\u001b[0;32m   2877\u001b[0m         owner,\n\u001b[0;32m   2878\u001b[0m         schema,\n\u001b[0;32m   2879\u001b[0m         \u001b[39m*\u001b[39m\u001b[39m*\u001b[39mkw,\n\u001b[0;32m   2880\u001b[0m     )\n",
      "File \u001b[1;32mc:\\Users\\user\\AppData\\Local\\Programs\\Python\\Python39\\lib\\site-packages\\sqlalchemy\\dialects\\mssql\\base.py:2912\u001b[0m, in \u001b[0;36m_switch_db\u001b[1;34m(dbname, connection, fn, *arg, **kw)\u001b[0m\n\u001b[0;32m   2908\u001b[0m         connection\u001b[39m.\u001b[39mexec_driver_sql(\n\u001b[0;32m   2909\u001b[0m             \u001b[39m\"\u001b[39m\u001b[39muse \u001b[39m\u001b[39m%s\u001b[39;00m\u001b[39m\"\u001b[39m \u001b[39m%\u001b[39m connection\u001b[39m.\u001b[39mdialect\u001b[39m.\u001b[39midentifier_preparer\u001b[39m.\u001b[39mquote(dbname)\n\u001b[0;32m   2910\u001b[0m         )\n\u001b[0;32m   2911\u001b[0m \u001b[39mtry\u001b[39;00m:\n\u001b[1;32m-> 2912\u001b[0m     \u001b[39mreturn\u001b[39;00m fn(\u001b[39m*\u001b[39marg, \u001b[39m*\u001b[39m\u001b[39m*\u001b[39mkw)\n\u001b[0;32m   2913\u001b[0m \u001b[39mfinally\u001b[39;00m:\n\u001b[0;32m   2914\u001b[0m     \u001b[39mif\u001b[39;00m dbname \u001b[39mand\u001b[39;00m current_db \u001b[39m!=\u001b[39m dbname:\n",
      "File \u001b[1;32mc:\\Users\\user\\AppData\\Local\\Programs\\Python\\Python39\\lib\\site-packages\\sqlalchemy\\dialects\\mssql\\base.py:3348\u001b[0m, in \u001b[0;36mMSDialect.get_table_names\u001b[1;34m(self, connection, dbname, owner, schema, **kw)\u001b[0m\n\u001b[0;32m   3337\u001b[0m tables \u001b[39m=\u001b[39m ischema\u001b[39m.\u001b[39mtables\n\u001b[0;32m   3338\u001b[0m s \u001b[39m=\u001b[39m (\n\u001b[0;32m   3339\u001b[0m     sql\u001b[39m.\u001b[39mselect(tables\u001b[39m.\u001b[39mc\u001b[39m.\u001b[39mtable_name)\n\u001b[0;32m   3340\u001b[0m     \u001b[39m.\u001b[39mwhere(\n\u001b[1;32m   (...)\u001b[0m\n\u001b[0;32m   3346\u001b[0m     \u001b[39m.\u001b[39morder_by(tables\u001b[39m.\u001b[39mc\u001b[39m.\u001b[39mtable_name)\n\u001b[0;32m   3347\u001b[0m )\n\u001b[1;32m-> 3348\u001b[0m table_names \u001b[39m=\u001b[39m [r[\u001b[39m0\u001b[39m] \u001b[39mfor\u001b[39;00m r \u001b[39min\u001b[39;00m connection\u001b[39m.\u001b[39;49mexecute(s)]\n\u001b[0;32m   3349\u001b[0m \u001b[39mreturn\u001b[39;00m table_names\n",
      "File \u001b[1;32mc:\\Users\\user\\AppData\\Local\\Programs\\Python\\Python39\\lib\\site-packages\\sqlalchemy\\engine\\base.py:1413\u001b[0m, in \u001b[0;36mConnection.execute\u001b[1;34m(self, statement, parameters, execution_options)\u001b[0m\n\u001b[0;32m   1411\u001b[0m     \u001b[39mraise\u001b[39;00m exc\u001b[39m.\u001b[39mObjectNotExecutableError(statement) \u001b[39mfrom\u001b[39;00m \u001b[39merr\u001b[39;00m\n\u001b[0;32m   1412\u001b[0m \u001b[39melse\u001b[39;00m:\n\u001b[1;32m-> 1413\u001b[0m     \u001b[39mreturn\u001b[39;00m meth(\n\u001b[0;32m   1414\u001b[0m         \u001b[39mself\u001b[39;49m,\n\u001b[0;32m   1415\u001b[0m         distilled_parameters,\n\u001b[0;32m   1416\u001b[0m         execution_options \u001b[39mor\u001b[39;49;00m NO_OPTIONS,\n\u001b[0;32m   1417\u001b[0m     )\n",
      "File \u001b[1;32mc:\\Users\\user\\AppData\\Local\\Programs\\Python\\Python39\\lib\\site-packages\\sqlalchemy\\sql\\elements.py:483\u001b[0m, in \u001b[0;36mClauseElement._execute_on_connection\u001b[1;34m(self, connection, distilled_params, execution_options)\u001b[0m\n\u001b[0;32m    481\u001b[0m     \u001b[39mif\u001b[39;00m TYPE_CHECKING:\n\u001b[0;32m    482\u001b[0m         \u001b[39massert\u001b[39;00m \u001b[39misinstance\u001b[39m(\u001b[39mself\u001b[39m, Executable)\n\u001b[1;32m--> 483\u001b[0m     \u001b[39mreturn\u001b[39;00m connection\u001b[39m.\u001b[39;49m_execute_clauseelement(\n\u001b[0;32m    484\u001b[0m         \u001b[39mself\u001b[39;49m, distilled_params, execution_options\n\u001b[0;32m    485\u001b[0m     )\n\u001b[0;32m    486\u001b[0m \u001b[39melse\u001b[39;00m:\n\u001b[0;32m    487\u001b[0m     \u001b[39mraise\u001b[39;00m exc\u001b[39m.\u001b[39mObjectNotExecutableError(\u001b[39mself\u001b[39m)\n",
      "File \u001b[1;32mc:\\Users\\user\\AppData\\Local\\Programs\\Python\\Python39\\lib\\site-packages\\sqlalchemy\\engine\\base.py:1637\u001b[0m, in \u001b[0;36mConnection._execute_clauseelement\u001b[1;34m(self, elem, distilled_parameters, execution_options)\u001b[0m\n\u001b[0;32m   1625\u001b[0m compiled_cache: Optional[CompiledCacheType] \u001b[39m=\u001b[39m execution_options\u001b[39m.\u001b[39mget(\n\u001b[0;32m   1626\u001b[0m     \u001b[39m\"\u001b[39m\u001b[39mcompiled_cache\u001b[39m\u001b[39m\"\u001b[39m, \u001b[39mself\u001b[39m\u001b[39m.\u001b[39mengine\u001b[39m.\u001b[39m_compiled_cache\n\u001b[0;32m   1627\u001b[0m )\n\u001b[0;32m   1629\u001b[0m compiled_sql, extracted_params, cache_hit \u001b[39m=\u001b[39m elem\u001b[39m.\u001b[39m_compile_w_cache(\n\u001b[0;32m   1630\u001b[0m     dialect\u001b[39m=\u001b[39mdialect,\n\u001b[0;32m   1631\u001b[0m     compiled_cache\u001b[39m=\u001b[39mcompiled_cache,\n\u001b[1;32m   (...)\u001b[0m\n\u001b[0;32m   1635\u001b[0m     linting\u001b[39m=\u001b[39m\u001b[39mself\u001b[39m\u001b[39m.\u001b[39mdialect\u001b[39m.\u001b[39mcompiler_linting \u001b[39m|\u001b[39m compiler\u001b[39m.\u001b[39mWARN_LINTING,\n\u001b[0;32m   1636\u001b[0m )\n\u001b[1;32m-> 1637\u001b[0m ret \u001b[39m=\u001b[39m \u001b[39mself\u001b[39;49m\u001b[39m.\u001b[39;49m_execute_context(\n\u001b[0;32m   1638\u001b[0m     dialect,\n\u001b[0;32m   1639\u001b[0m     dialect\u001b[39m.\u001b[39;49mexecution_ctx_cls\u001b[39m.\u001b[39;49m_init_compiled,\n\u001b[0;32m   1640\u001b[0m     compiled_sql,\n\u001b[0;32m   1641\u001b[0m     distilled_parameters,\n\u001b[0;32m   1642\u001b[0m     execution_options,\n\u001b[0;32m   1643\u001b[0m     compiled_sql,\n\u001b[0;32m   1644\u001b[0m     distilled_parameters,\n\u001b[0;32m   1645\u001b[0m     elem,\n\u001b[0;32m   1646\u001b[0m     extracted_params,\n\u001b[0;32m   1647\u001b[0m     cache_hit\u001b[39m=\u001b[39;49mcache_hit,\n\u001b[0;32m   1648\u001b[0m )\n\u001b[0;32m   1649\u001b[0m \u001b[39mif\u001b[39;00m has_events:\n\u001b[0;32m   1650\u001b[0m     \u001b[39mself\u001b[39m\u001b[39m.\u001b[39mdispatch\u001b[39m.\u001b[39mafter_execute(\n\u001b[0;32m   1651\u001b[0m         \u001b[39mself\u001b[39m,\n\u001b[0;32m   1652\u001b[0m         elem,\n\u001b[1;32m   (...)\u001b[0m\n\u001b[0;32m   1656\u001b[0m         ret,\n\u001b[0;32m   1657\u001b[0m     )\n",
      "File \u001b[1;32mc:\\Users\\user\\AppData\\Local\\Programs\\Python\\Python39\\lib\\site-packages\\sqlalchemy\\engine\\base.py:1841\u001b[0m, in \u001b[0;36mConnection._execute_context\u001b[1;34m(self, dialect, constructor, statement, parameters, execution_options, *args, **kw)\u001b[0m\n\u001b[0;32m   1836\u001b[0m     \u001b[39mreturn\u001b[39;00m \u001b[39mself\u001b[39m\u001b[39m.\u001b[39m_exec_insertmany_context(\n\u001b[0;32m   1837\u001b[0m         dialect,\n\u001b[0;32m   1838\u001b[0m         context,\n\u001b[0;32m   1839\u001b[0m     )\n\u001b[0;32m   1840\u001b[0m \u001b[39melse\u001b[39;00m:\n\u001b[1;32m-> 1841\u001b[0m     \u001b[39mreturn\u001b[39;00m \u001b[39mself\u001b[39;49m\u001b[39m.\u001b[39;49m_exec_single_context(\n\u001b[0;32m   1842\u001b[0m         dialect, context, statement, parameters\n\u001b[0;32m   1843\u001b[0m     )\n",
      "File \u001b[1;32mc:\\Users\\user\\AppData\\Local\\Programs\\Python\\Python39\\lib\\site-packages\\sqlalchemy\\engine\\base.py:1982\u001b[0m, in \u001b[0;36mConnection._exec_single_context\u001b[1;34m(self, dialect, context, statement, parameters)\u001b[0m\n\u001b[0;32m   1979\u001b[0m     result \u001b[39m=\u001b[39m context\u001b[39m.\u001b[39m_setup_result_proxy()\n\u001b[0;32m   1981\u001b[0m \u001b[39mexcept\u001b[39;00m \u001b[39mBaseException\u001b[39;00m \u001b[39mas\u001b[39;00m e:\n\u001b[1;32m-> 1982\u001b[0m     \u001b[39mself\u001b[39;49m\u001b[39m.\u001b[39;49m_handle_dbapi_exception(\n\u001b[0;32m   1983\u001b[0m         e, str_statement, effective_parameters, cursor, context\n\u001b[0;32m   1984\u001b[0m     )\n\u001b[0;32m   1986\u001b[0m \u001b[39mreturn\u001b[39;00m result\n",
      "File \u001b[1;32mc:\\Users\\user\\AppData\\Local\\Programs\\Python\\Python39\\lib\\site-packages\\sqlalchemy\\engine\\base.py:2339\u001b[0m, in \u001b[0;36mConnection._handle_dbapi_exception\u001b[1;34m(self, e, statement, parameters, cursor, context, is_sub_exec)\u001b[0m\n\u001b[0;32m   2337\u001b[0m \u001b[39melif\u001b[39;00m should_wrap:\n\u001b[0;32m   2338\u001b[0m     \u001b[39massert\u001b[39;00m sqlalchemy_exception \u001b[39mis\u001b[39;00m \u001b[39mnot\u001b[39;00m \u001b[39mNone\u001b[39;00m\n\u001b[1;32m-> 2339\u001b[0m     \u001b[39mraise\u001b[39;00m sqlalchemy_exception\u001b[39m.\u001b[39mwith_traceback(exc_info[\u001b[39m2\u001b[39m]) \u001b[39mfrom\u001b[39;00m \u001b[39me\u001b[39;00m\n\u001b[0;32m   2340\u001b[0m \u001b[39melse\u001b[39;00m:\n\u001b[0;32m   2341\u001b[0m     \u001b[39massert\u001b[39;00m exc_info[\u001b[39m1\u001b[39m] \u001b[39mis\u001b[39;00m \u001b[39mnot\u001b[39;00m \u001b[39mNone\u001b[39;00m\n",
      "File \u001b[1;32mc:\\Users\\user\\AppData\\Local\\Programs\\Python\\Python39\\lib\\site-packages\\sqlalchemy\\engine\\base.py:1963\u001b[0m, in \u001b[0;36mConnection._exec_single_context\u001b[1;34m(self, dialect, context, statement, parameters)\u001b[0m\n\u001b[0;32m   1961\u001b[0m                 \u001b[39mbreak\u001b[39;00m\n\u001b[0;32m   1962\u001b[0m     \u001b[39mif\u001b[39;00m \u001b[39mnot\u001b[39;00m evt_handled:\n\u001b[1;32m-> 1963\u001b[0m         \u001b[39mself\u001b[39;49m\u001b[39m.\u001b[39;49mdialect\u001b[39m.\u001b[39;49mdo_execute(\n\u001b[0;32m   1964\u001b[0m             cursor, str_statement, effective_parameters, context\n\u001b[0;32m   1965\u001b[0m         )\n\u001b[0;32m   1967\u001b[0m \u001b[39mif\u001b[39;00m \u001b[39mself\u001b[39m\u001b[39m.\u001b[39m_has_events \u001b[39mor\u001b[39;00m \u001b[39mself\u001b[39m\u001b[39m.\u001b[39mengine\u001b[39m.\u001b[39m_has_events:\n\u001b[0;32m   1968\u001b[0m     \u001b[39mself\u001b[39m\u001b[39m.\u001b[39mdispatch\u001b[39m.\u001b[39mafter_cursor_execute(\n\u001b[0;32m   1969\u001b[0m         \u001b[39mself\u001b[39m,\n\u001b[0;32m   1970\u001b[0m         cursor,\n\u001b[1;32m   (...)\u001b[0m\n\u001b[0;32m   1974\u001b[0m         context\u001b[39m.\u001b[39mexecutemany,\n\u001b[0;32m   1975\u001b[0m     )\n",
      "File \u001b[1;32mc:\\Users\\user\\AppData\\Local\\Programs\\Python\\Python39\\lib\\site-packages\\sqlalchemy\\engine\\default.py:920\u001b[0m, in \u001b[0;36mDefaultDialect.do_execute\u001b[1;34m(self, cursor, statement, parameters, context)\u001b[0m\n\u001b[0;32m    919\u001b[0m \u001b[39mdef\u001b[39;00m \u001b[39mdo_execute\u001b[39m(\u001b[39mself\u001b[39m, cursor, statement, parameters, context\u001b[39m=\u001b[39m\u001b[39mNone\u001b[39;00m):\n\u001b[1;32m--> 920\u001b[0m     cursor\u001b[39m.\u001b[39;49mexecute(statement, parameters)\n",
      "\u001b[1;31mDBAPIError\u001b[0m: (pyodbc.Error) ('HY104', '[HY104] [Microsoft][ODBC SQL Server Driver]Ogiltigt precisionsvärde (0) (SQLBindParameter)')\n[SQL: SELECT [INFORMATION_SCHEMA].[TABLES].[TABLE_NAME] \nFROM [INFORMATION_SCHEMA].[TABLES] \nWHERE [INFORMATION_SCHEMA].[TABLES].[TABLE_SCHEMA] = CAST(? AS NVARCHAR(max)) AND [INFORMATION_SCHEMA].[TABLES].[TABLE_TYPE] = CAST(? AS NVARCHAR(max)) ORDER BY [INFORMATION_SCHEMA].[TABLES].[TABLE_NAME]]\n[parameters: ('dbo', 'BASE TABLE')]\n(Background on this error at: https://sqlalche.me/e/20/dbapi)"
     ]
    }
   ],
   "source": [
    "from sqlalchemy import create_engine, MetaData, Table, select\n",
    "\n",
    "def search_books_by_title(title):\n",
    "    # Establish a connection to the database\n",
    "    server = 'Hannes-PC'\n",
    "    database = 'HannesHedberg'\n",
    "    connection_string = f\"mssql+pyodbc://{server}/{database}?driver=SQL+Server&Trusted_Connection=yes&fast_executemany=True\"\n",
    "    engine = create_engine(connection_string)\n",
    "\n",
    "    # Define metadata and reflect the tables\n",
    "    metadata = MetaData()\n",
    "    metadata.reflect(bind=engine)\n",
    "\n",
    "    # Get the table objects\n",
    "    Book = Table('Book', metadata, autoload=True)\n",
    "    Inventory = Table('Inventory', metadata, autoload=True)\n",
    "    Store = Table('Store', metadata, autoload=True)\n",
    "\n",
    "    # Prepare the SQL query\n",
    "    query = select([Book.c.Title, Store.c.Name.label('StoreName'), Inventory.c.Num.label('Number')]) \\\n",
    "        .select_from(Book.join(Inventory, Book.c.ISBN13 == Inventory.c.ISBN13)\n",
    "                     .join(Store, Store.c.StoreID == Inventory.c.StoreID)) \\\n",
    "        .where(Book.c.Title.like(f'%{title}%'))\n",
    "\n",
    "    # Execute the query\n",
    "    with engine.connect() as conn:\n",
    "        result = conn.execute(query)\n",
    "        rows = result.fetchall()\n",
    "\n",
    "    # Return the search results\n",
    "    return rows\n",
    "\n",
    "# Example usage: Search for books by title and get available copies in each store\n",
    "search_title = input(\"Enter a book title to search: \")\n",
    "books = search_books_by_title(search_title)\n",
    "\n",
    "# Display the search results\n",
    "for book in books:\n",
    "    print(\"Title:\", book.Title)\n",
    "    print(\"Store Name:\", book.StoreName)\n",
    "    print(\"Number of Copies:\", book.Number)\n",
    "    print()"
   ]
  }
 ],
 "metadata": {
  "kernelspec": {
   "display_name": "Python 3.9.13 ('Databaser-Hannes-Hedberg-JMa2Dqn7')",
   "language": "python",
   "name": "python3"
  },
  "language_info": {
   "codemirror_mode": {
    "name": "ipython",
    "version": 3
   },
   "file_extension": ".py",
   "mimetype": "text/x-python",
   "name": "python",
   "nbconvert_exporter": "python",
   "pygments_lexer": "ipython3",
   "version": "3.9.13"
  },
  "orig_nbformat": 4,
  "vscode": {
   "interpreter": {
    "hash": "40fb5da22d7aead4d9422b77d021daa2fe0a53bca85563e5d733c26d2e465973"
   }
  }
 },
 "nbformat": 4,
 "nbformat_minor": 2
}
