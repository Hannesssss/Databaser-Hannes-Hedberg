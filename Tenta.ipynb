{
 "cells": [
  {
   "attachments": {},
   "cell_type": "markdown",
   "metadata": {},
   "source": [
    "# Databaser - SQL Tenta"
   ]
  },
  {
   "attachments": {},
   "cell_type": "markdown",
   "metadata": {},
   "source": [
    "En databas är en samling information som är organiserad på ett sätt som gör den lättillgänglig och enkel att navigera."
   ]
  },
  {
   "attachments": {},
   "cell_type": "markdown",
   "metadata": {},
   "source": [
    "## 0. Gloser"
   ]
  },
  {
   "attachments": {},
   "cell_type": "markdown",
   "metadata": {},
   "source": [
    "**Dataintegritet:** kvaliten och tillförlitligheten hos datan i en databas. Viktig att den hålls hög för att man ska kunna förlita sig på datan. Unikhet, Riktighet, konsistens, giltighet, referentiell integritet och historisk korrekhet är viktiga för att upprätthålla hög dataintegritet.\n",
    "\n"
   ]
  },
  {
   "attachments": {},
   "cell_type": "markdown",
   "metadata": {},
   "source": [
    "**IMS:** Information Management System, är en typ av databashanteringsprogramvara utvecklad av IBM. Äldsta och mest framgångsrika hierarkiska databas systemet. "
   ]
  },
  {
   "attachments": {},
   "cell_type": "markdown",
   "metadata": {},
   "source": [
    "**RDBMS:** **R**elational **D**atabase **M**anagement **S**ystem, Relationsdatabashanteringsystem, är programvaran som använder för att skapa, hantera och underhålla relationella databaser. Ett RDBMS tillåter användare att lagra, organisera och hämta ut data i en strukturerad form med hjälp av tabeller, rader och kolumner. \n",
    "\n",
    "**Ex:**\n",
    "\n",
    "- MySQL\n",
    "- PostgreSQL\n",
    "- Oracle Database\n",
    "- Microsoft SQL Server\n",
    "- SQLite\n",
    "- IBM Db2\n",
    "- MariaDB\n",
    "- SAP HANA\n",
    "- Teradata\n",
    "- Firebird\n",
    "- informix\n",
    "- ingres\n",
    "- sybase"
   ]
  },
  {
   "attachments": {},
   "cell_type": "markdown",
   "metadata": {},
   "source": [
    "**BSON:** Data i BSON-format lagras vanligtvis i dokumentdatabaser, som till exempel MongoDB. BSON står för \"Binary JSON\" och är en binär representation av JSON (JavaScript Object Notation). Det används som ett datalagringsformat i dokumentdatabaser för att lagra och hantera semistrukturerad och ostrukturerad data. I MongoDB och liknande dokumentdatabaser används BSON för att representera och lagra dokument i en snabb och effektiv form, vilket möjliggör flexibel datalagring och snabb dataåtkomst."
   ]
  },
  {
   "attachments": {},
   "cell_type": "markdown",
   "metadata": {},
   "source": [
    "---------------"
   ]
  },
  {
   "attachments": {},
   "cell_type": "markdown",
   "metadata": {},
   "source": [
    "## 1. Databas typer"
   ]
  },
  {
   "attachments": {},
   "cell_type": "markdown",
   "metadata": {},
   "source": [
    "### 1.a Hierarkisk databas"
   ]
  },
  {
   "attachments": {},
   "cell_type": "markdown",
   "metadata": {},
   "source": [
    "Datan lagras i en trädstruktur, det gör den snabb att bearbeta men svår att manipulera. Ex på mest framgångsrika hierarkiska databaserna är IBM och IMS. Dessa utvecklades för Apollo programmet.\n",
    "\n",
    "Dataelementen ligger i noder, och varje nod har en förälder-nod och kan sedan ha flera olika barnnoder. Bra representation för relationer som organigram eller filsystem\n",
    "\n",
    "**Huvudpunkter:**\n",
    "\n",
    "- strukturerad som ett träd\n",
    "- hög prestanda\n",
    "- hög dataintegritet, då hierkiska databaser oftast kräver korrekta relationer mellan noder.\n",
    "\n",
    "- svår att manipulera, vid förändring eller komplexa frågor som inte följer trädstrukturen. Det blir utmannande att ändra en kedja på mitten.\n",
    "- Applikatoner, funkar bäst med tydliga förälder och barnförhållanden. \n",
    "- ex IBMs, IMS, IDMS m.m"
   ]
  },
  {
   "attachments": {},
   "cell_type": "markdown",
   "metadata": {},
   "source": [
    "### Hierarkisk Databas\n",
    "\n",
    "- Företag\n",
    "  - Avdelning\n",
    "    - Anställd\n",
    "    - Anställd\n",
    "  - Avdelning\n",
    "    - Anställd\n",
    "    - Anställd"
   ]
  },
  {
   "attachments": {},
   "cell_type": "markdown",
   "metadata": {},
   "source": [
    "### 1.b Relations databas"
   ]
  },
  {
   "attachments": {},
   "cell_type": "markdown",
   "metadata": {},
   "source": [
    "Utvecklad av Edgar codd, 1970. Består av en databas med flera tabeller, aka relationer. Informationen sparas i rader i tabeller. De stora DBMS databaserna är  IBM, DB2, Oracles Oracle, Microsoft SQL Server, MySQL. \n",
    "\n",
    "Eftersom varje tabell representerar en relation, har varje rad en unik datarad där varje kolumn representerar ett attribut eller en egenskap hos datan. För att kunna hantera och ställa frågor används SQL (Structured Query Language). Språket är utformat för att definera, manipulera och ställa frågor i datan hos relationsdatabaser."
   ]
  },
  {
   "attachments": {},
   "cell_type": "markdown",
   "metadata": {},
   "source": [
    "Relationell databas\n",
    "\n",
    "| Tabellnamn | Attribut 1 | Attribut 2 | ... |\n",
    "|------------|------------|------------|-----|\n",
    "| Användare  | ID         | Namn       | ... |\n",
    "| Order      | OrderID    | KundID     | ... |\n",
    "| Produkt    | ProduktID  | Namn       | ... |\n"
   ]
  },
  {
   "attachments": {},
   "cell_type": "markdown",
   "metadata": {},
   "source": [
    "### 1.c objektorienterad databas (OODBMS)"
   ]
  },
  {
   "attachments": {},
   "cell_type": "markdown",
   "metadata": {},
   "source": [
    "En typ av databashanteringsystem som kombinerar object orienterad programmering med datalagring och hantering. OODBMS lagras data istället som objekt istället för rader och kolumner som i relationdatabaser. Objekten kan innehålla data, metoder och egenskaper som kan ha hierarkiska och associativa relationer med andra objekt. \n",
    "\n",
    "OODBMS gör det möjligt att direkt få representation av hantering på komplexa datamodeller som speglar verkliga världseniteter. "
   ]
  },
  {
   "attachments": {},
   "cell_type": "markdown",
   "metadata": {},
   "source": [
    "#### Objektorienterad Databas Exempel\n",
    "\n",
    "##### Klass: Person\n",
    "- Attribut: ID (Integer)\n",
    "- Attribut: Namn (String)\n",
    "- Attribut: Ålder (Integer)\n",
    "- Metod: BeräknaÅlder()\n",
    "- Metod: SkrivUtNamn()\n",
    "\n",
    "##### Klass: Produkt\n",
    "- Attribut: ProduktID (Integer)\n",
    "- Attribut: Namn (String)\n",
    "- Attribut: Pris (Decimal)\n",
    "- Metod: BeräknaMoms()\n",
    "- Metod: VisaProduktInfo()\n",
    "\n",
    "##### Klass: Beställning\n",
    "- Attribut: OrderID (Integer)\n",
    "- Attribut: Kund (Referens till Person)\n",
    "- Attribut: Produkter (Lista av Referenser till Produkt)\n",
    "- Metod: BeräknaTotal()\n",
    "- Metod: VisaBeställningsinfo()\n",
    "\n",
    "I detta exempel har vi tre klasser: Person, Produkt och Beställning. Varje klass har attribut (egenskaper) och metoder (funktioner) som är relaterade till respektive klass. Det finns även användning av referenser för att skapa relationer mellan objekten, t.ex. en Beställning har en referens till en Person (Kund) och en lista av referenser till Produkter.\n",
    "\n",
    "Detta exempel illustrerar hur en objektorienterad databas kan representera data på ett mer strukturerat sätt genom att använda objekt och objekthierarkier istället för traditionella tabeller."
   ]
  },
  {
   "attachments": {},
   "cell_type": "markdown",
   "metadata": {},
   "source": [
    "### 1.d Faktabaserad databas "
   ]
  },
  {
   "attachments": {},
   "cell_type": "markdown",
   "metadata": {},
   "source": [
    "Faktabaserad databas, aka \"triplestore\" eller RDF-databas (Resource Decription Framework). En typ av databas inriktad på att lagra och hantera data i form av påstoenden eller fakta. Subjekt, predikat och objekt.\n",
    "\n",
    "I en faktabaserad databas representeras data i formatet \"subjekt-predikat-objekt\", där subjektet beskriver det huvudsakliga dataobjektet, predikatet beskriver en egenskap eller relation om subjektet och objektet innehåller värdet eller den associerade informationen. Detta format gör det möjligt att skapa kopplingar och relationer mellan olika fakta på ett mer flexibelt sätt."
   ]
  },
  {
   "attachments": {},
   "cell_type": "markdown",
   "metadata": {},
   "source": [
    "I detta exempel representerar varje fakta ett påstående om ett visst subjekt och dess relation till ett predikat och ett objekt. På detta sätt kan faktabaserade databaser användas för att bygga en semantisk webb där data har djupare och mer kontextuell mening.\n",
    "\n",
    "#### Faktabaserad Databas Exempel\n",
    "\n",
    "##### Fakta: Personer\n",
    "- Subjekt: Person1\n",
    "- Predikat: Namn\n",
    "- Objekt: Alice\n",
    "\n",
    "- Subjekt: Person1\n",
    "- Predikat: Ålder\n",
    "- Objekt: 30\n",
    "\n",
    "##### Fakta: Produkter\n",
    "- Subjekt: Produkt1\n",
    "- Predikat: Namn\n",
    "- Objekt: Smartphone\n",
    "\n",
    "- Subjekt: Produkt1\n",
    "- Predikat: Pris\n",
    "- Objekt: 1000\n",
    "\n",
    "##### Fakta: Beställningar\n",
    "- Subjekt: Beställning1\n",
    "- Predikat: Kund\n",
    "- Objekt: Person1\n",
    "\n",
    "- Subjekt: Beställning1\n",
    "- Predikat: Produkt\n",
    "- Objekt: Produkt1"
   ]
  },
  {
   "attachments": {},
   "cell_type": "markdown",
   "metadata": {},
   "source": [
    "----------------"
   ]
  },
  {
   "attachments": {},
   "cell_type": "markdown",
   "metadata": {},
   "source": [
    "## 2. CRUD"
   ]
  },
  {
   "attachments": {},
   "cell_type": "markdown",
   "metadata": {},
   "source": [
    "**C**reate **R**ead **U**pdate **D**elete\n",
    "\n",
    "CRUD är en akronym som används för att beskriva grundläggande operationerna som utförs på data i en databas eller annat informationhanteringssystem. Grundläggande och viktiga för att hantera och underhålla data."
   ]
  },
  {
   "attachments": {},
   "cell_type": "markdown",
   "metadata": {},
   "source": [
    "### 2.a Create (Skapa)"
   ]
  },
  {
   "attachments": {},
   "cell_type": "markdown",
   "metadata": {},
   "source": [
    "Ny data skapas och läggs till i databasen. Innebär infogandet av en ny rad i en tabell eller en ny post i systemet."
   ]
  },
  {
   "attachments": {},
   "cell_type": "markdown",
   "metadata": {},
   "source": [
    "### 2.b Read (Läs)"
   ]
  },
  {
   "attachments": {},
   "cell_type": "markdown",
   "metadata": {},
   "source": [
    "Data hämtas ifrån databasen och visas eller bearbetas, innebär att man kan hämta en enskild rad, flera rader eller hela tabeller ifrån databasen."
   ]
  },
  {
   "attachments": {},
   "cell_type": "markdown",
   "metadata": {},
   "source": [
    "### 2.c Update (Uppdatera)"
   ]
  },
  {
   "attachments": {},
   "cell_type": "markdown",
   "metadata": {},
   "source": [
    "Ändring eller uppdatering av befintlig data i databasen. Kan t.ex. inkludera att ändra värden i befintliga rader eller att uppdatera andra attribut."
   ]
  },
  {
   "attachments": {},
   "cell_type": "markdown",
   "metadata": {},
   "source": [
    "### 2.d Delete (Radera)"
   ]
  },
  {
   "attachments": {},
   "cell_type": "markdown",
   "metadata": {},
   "source": [
    "Används för att ta bort befintlig data ifrån en databas. Tex en enskild rad, flera rader eller hela tabeller."
   ]
  },
  {
   "attachments": {},
   "cell_type": "markdown",
   "metadata": {},
   "source": [
    "---------------"
   ]
  },
  {
   "attachments": {},
   "cell_type": "markdown",
   "metadata": {},
   "source": [
    "## 3. SQL Queries"
   ]
  },
  {
   "attachments": {},
   "cell_type": "markdown",
   "metadata": {},
   "source": [
    "### 3.a Vanligaste SQL-kommando queries"
   ]
  },
  {
   "attachments": {},
   "cell_type": "markdown",
   "metadata": {},
   "source": [
    "**1. Select:**\n",
    "```sql\n",
    "SELECT Namn, Ålder FROM Användare WHERE Ålder > 25;\n",
    "```\n",
    "**2. Insert:**\n",
    "```SQL\n",
    "INSERT INTO Produkter (ProduktID, Namn, Pris) VALUES (1,'Smartphone', 1000);\n",
    "```\n",
    "**3. Update:**\n",
    "```SQL\n",
    "UPDATE Användare SET Ålder = 31 WHERE Namn = 'Alice';\n",
    "```\n",
    "**4. DELETE:**\n",
    "```SQL\n",
    "DELETE FROM Produkter WHERE ProduktID = 1;\n",
    "```\n",
    "**5. JOIN:**\n",
    "```SQL\n",
    "SELECT Användare.Namn, Order.OrderID FROM Användare JOIN Order ON Användare.ID = Order.KundID;\n",
    "```\n",
    "**6. WHERE:**\n",
    "```SQL\n",
    "SELECT Namn, Ålder FROM Användare WHERE Ålder > 25 AND Stad = 'Stockholm';\n",
    "```\n",
    "**7. ORDER BY:**\n",
    "```SQL\n",
    "SELECT Namn, Ålder FROM Användare ORDER BY Ålder DESC;\n",
    "```\n",
    "**8. GROUP BY:**\n",
    "```SQL\n",
    "SELECT Stad, COUNT(*) AS AntalAnvändare FROM Användare GROUP BY Stad;\n",
    "```\n",
    "**9. HAVING:**\n",
    "```sql\n",
    "SELECT Stad, AVG(Ålder) AS Medelålder FROM Användare GROUP BY Stad HAVING AVG(Ålder) > 30;\n",
    "```\n",
    "**10. LIMIT:**\n",
    "```sql\n",
    "SELECT Namn FROM Användare LIMIT 10;\n",
    "```\n",
    "\n",
    "**11. DROP TABLE:**\n",
    "```sql\n",
    "DROP TABLE Tabellnamn;\n",
    "```"
   ]
  },
  {
   "attachments": {},
   "cell_type": "markdown",
   "metadata": {},
   "source": [
    "### 3.b Joins"
   ]
  },
  {
   "attachments": {},
   "cell_type": "markdown",
   "metadata": {},
   "source": [
    "- **Left join**\n",
    "\n",
    "Returnererar alla rader ifrån vänster i en tabell. och matchande rader från höger tabell. Om det inte finns någon matchande rad i höger tabell får du null-värden för höger tabells kolumner.\n",
    "\n",
    "```sql\n",
    "SELECT Customers.CustomerName, Orders.OrderID\n",
    "FROM Customers\n",
    "LEFT JOIN Orders ON Customers.CustomerID = Orders.CustomerID;\n",
    "```\n",
    "\n",
    "\n",
    "- **Right join**\n",
    "\n",
    "Likt left join men den returnerar alla rader från höger tabell och matchande rader från vänster tabell. Om det inte finns någon matchning i vänster tabell får du null-värden för vänster tabells kolumner.\n",
    "\n",
    "```sql\n",
    "SELECT Orders.OrderID, Customers.CustomerName\n",
    "FROM Orders\n",
    "RIGHT JOIN Customers ON Orders.CustomerID = Customers.CustomerID;\n",
    "```\n",
    "\n",
    "\n",
    "- **Cross join**\n",
    "\n",
    "En Cross Join returnerar en kombination av alla rader från båda tabellerna. Det skapar en korsprodukt av rader från de två tabellerna. Cross Join är användbart när du vill kombinera varje rad från en tabell med varje rad från en annan.\n",
    "\n",
    "```sql\n",
    "SELECT Customers.CustomerName, Orders.OrderID\n",
    "FROM Customers\n",
    "CROSS JOIN Orders;\n",
    "```\n",
    "\n",
    "- **Inner join**\n",
    "\n",
    "En Inner Join returnerar enbart de rader där det finns en matchning i båda tabellerna. Raderna från icke-matchande sidan exkluderas.\n",
    "\n",
    "```sql \n",
    "SELECT Orders.OrderID, Customers.CustomerName\n",
    "FROM Orders\n",
    "INNER JOIN Customers ON Orders.CustomerID = Customers.CustomerID;\n",
    "```\n",
    "\n",
    "\n",
    "- **Full outer join**\n",
    "\n",
    "En Full Outer Join returnerar alla rader från både vänster och höger tabell, inklusive icke-matchande rader. Om det inte finns någon matchning i ena eller andra tabellen, får du null-värden för kolumner i den icke-matchande tabellen.\n",
    "\n",
    "```sql\n",
    "SELECT Customers.CustomerName, Orders.OrderID\n",
    "FROM Customers\n",
    "FULL OUTER JOIN Orders ON Customers.CustomerID = Orders.CustomerID;\n",
    "```\n",
    "\n",
    "- **Self Join** \n",
    "\n",
    "En Self Join används när du vill kombinera rader från samma tabell, vanligtvis genom att använda alias för att hantera de olika instanserna av tabellen.\n",
    "\n",
    "```sql\n",
    "SELECT e1.EmployeeName, e2.EmployeeName\n",
    "FROM Employees e1\n",
    "JOIN Employees e2 ON e1.ManagerID = e2.EmployeeID;\n",
    "```"
   ]
  },
  {
   "attachments": {},
   "cell_type": "markdown",
   "metadata": {},
   "source": [
    "----------"
   ]
  },
  {
   "attachments": {},
   "cell_type": "markdown",
   "metadata": {},
   "source": [
    "## 4. Data typer"
   ]
  },
  {
   "attachments": {},
   "cell_type": "markdown",
   "metadata": {},
   "source": [
    "1. **INT:** En heltalsdatatyp som lagrar positiva och negativa heltal utan decimaler, används för att representera numeriska värden i många sammanhang.\n",
    "\n",
    "2. **VARCHAR:** En variabel längd-strängdatatyp som lagrar teckensträngar med varierande längd, används för textbaserad information som namn eller adresser.\n",
    "\n",
    "3. **DECIMAL:** En datatyp för numeriska värden med fast precision och skala för decimaler, används för att exakt lagra ekonomiska belopp eller andra exakta numeriska värden.\n",
    "\n",
    "4. **DATE:** En datatyp för att lagra datum utan tidsinformation, används för att representera kalenderdatum.\n",
    "\n",
    "5. **TIME:** En datatyp för att lagra tidsinformation inklusive timmar, minuter, sekunder och bråkdelar av sekunder, används för att representera specifika tidpunkter.\n",
    "\n",
    "6. **BOOLEAN:** En datatyp som representerar sanna (True) eller falska (False) värden, används för logiskt beslutstagande.\n",
    "\n",
    "7. **BINARY:** En binär datatyp som lagrar sekvenser av bytes, används för att lagra binärdata som bilder eller filer.\n",
    "\n",
    "8. **FLOAT:** En datatyp för att lagra flyttalsvärden med flytande decimalpunkter, används för stora eller mycket små värden där exakt precision är mindre viktigt.\n",
    "\n",
    "9. **CHAR:** En fix längd-strängdatatyp som lagrar teckensträngar med konstant längd, används för data som alltid har samma längd, som t.ex. postnummer.\n",
    "\n",
    "10. **DATETIME:** En datatyp som kombinerar både datum och tidsinformation, används för att representera specifika tidpunkter med datum och tid.\n",
    "\n",
    "11. **BIGINT:** En datatyp som lagrar stora heltal, används när heltal kan vara mycket stora.\n",
    "\n",
    "12. **NCHAR:** En Unicode-strängdatatyp med konstant längd, används för att lagra Unicode-teckensträngar med samma längd.\n",
    "\n",
    "13. **BIT:** En datatyp som lagrar enkel sann/falsk-information, används för att representera binära beslut."
   ]
  },
  {
   "attachments": {},
   "cell_type": "markdown",
   "metadata": {},
   "source": [
    "--------------"
   ]
  },
  {
   "attachments": {},
   "cell_type": "markdown",
   "metadata": {},
   "source": [
    "## 5. Systemdatabas (Microsoft SQL Server)"
   ]
  },
  {
   "attachments": {},
   "cell_type": "markdown",
   "metadata": {},
   "source": [
    "Systemdatabas refererar till en grupp förvalda databaser som innehåller viktig information om SQL Server-instansen och konfigurationen. Dessa systemdatabaser hjälper till att hantera och underhålla SQL server miljön och innehåller meta data och systeminformation som är nödvängit för att SQL server ska fungera korrekt.\n",
    "\n",
    "Några vanliga systemdatabaser i Microsoft SQL Server:\n",
    "\n",
    "1. **master:** Innehåller metadata om alla andra databaser i SQL Server-instansen, inklusive information om logins, konfiguration och systeminställningar.\n",
    "\n",
    "2. **model:** Används som mall för att skapa nya databaser. Eventuella ändringar som görs i detta databasexempel kommer att speglas i nya databaser som skapas.\n",
    "\n",
    "3. **msdb:** Innehåller information om SQL Server Agent-jobb, underhållsuppgifter, säkerhetskopior och återställningar, samt hanterar integrationen med SQL Server Management Studio.\n",
    "\n",
    "4. **tempdb:** Används som en arbetsdatabas för temporära objekt, temporära tabeller och andra temporära data som genereras under SQL Server-operativitet.\n",
    "\n",
    "5. **resource:** En skrivskyddad databas som innehåller systemobjekt och metadata som används av SQL Server för att hantera vissa systemfunktioner.\n",
    "\n",
    "Dessa systemdatabaser är avgörande för att hålla SQL Server-miljön i funktion och stödja dess funktionalitet. De innehåller data som är väsentliga för att hålla reda på inställningar, övervaka jobb, hantera temporära data och mycket mer. Det är viktigt att förstå deras syften och att hantera dem noggrant för att säkerställa en stabil och korrekt fungerande SQL Server-instans."
   ]
  },
  {
   "attachments": {},
   "cell_type": "markdown",
   "metadata": {},
   "source": [
    "-------------"
   ]
  },
  {
   "attachments": {},
   "cell_type": "markdown",
   "metadata": {},
   "source": [
    "## 6. Datatransformation"
   ]
  },
  {
   "attachments": {},
   "cell_type": "markdown",
   "metadata": {},
   "source": [
    "*Dessa begrepp är viktiga för att förstå olika aspekter av datahantering, analys och bearbetning inom olika domäner och industrier.*\n",
    "\n",
    "\n",
    "\n",
    "1. **Aggregerad data:** Aggregerad data är resultatet av att kombinera och summera flera rader eller värden till en enda rad med sammanfattad information. Det används ofta för att generera sammanställningar och statistik, som att beräkna genomsnitt, summa eller max/min-värden för en grupp av poster.\n",
    "\n",
    "2. **Soliderad data:** Soliderad data hänvisar till data som har rengjorts, organiserats och korrigerats för att säkerställa dess kvalitet och integritet. Solidering involverar eliminering av dubbla poster, standardisering av format och hantering av inkonsekventa eller felaktiga värden.\n",
    "\n",
    "3. **Extraherad data:** Extraherad data är information som har hämtats från en eller flera källor och lagrats för analys eller användning. Detta är vanligt inom affärsanalyser och datavetenskap, där data extraheras från olika källor för att dra insikter och fatta informerade beslut.\n",
    "\n",
    "4. **Korrigerad data:** Korrigerad data är information som har reviderats eller justerats för att rätta fel, felaktigheter eller inkonsekvenser. Det kan inkludera att fixa stavfel, ändra datatyper eller justera numeriska värden för att återspegla korrekta fakta.\n",
    "\n",
    "5. **Transformad data:** Transformad data är information som har modifierats eller omvandlats på olika sätt för att passa ett specifikt syfte. Det kan innefatta att konvertera datatyper, kombinera eller splitta kolumner, eller utföra beräkningar för att generera nya attribut.\n",
    "\n",
    "6. **Normaliserad data:** Normaliserad data är data som har omstrukturerats och organiserats enligt normaliseringsprinciperna för att minska redundans och förbättra databasens integritet och prestanda.\n",
    "\n",
    "7. **Denormaliserad data:** Denormaliserad data är motsatsen till normaliserad data och innebär att kombinera data från flera tabeller till en enda tabell för att optimera prestanda. Detta kan göra det enklare att hämta data, men kan öka risken för redundans.\n",
    "\n",
    "8. **Historisk data:** Historisk data är data som representerar tidigare händelser och tillstånd. Det används ofta för att analysera trender över tid och ta historiska beslut.\n",
    "\n",
    "9. **Realtidsdata:** Realtidsdata är data som överförs och behandlas omedelbart när det genereras, vilket möjliggör snabba beslut och reaktioner baserade på aktuell information."
   ]
  },
  {
   "attachments": {},
   "cell_type": "markdown",
   "metadata": {},
   "source": [
    "------------"
   ]
  },
  {
   "attachments": {},
   "cell_type": "markdown",
   "metadata": {},
   "source": [
    "## 7. ACID (Atomicty, Consistency, Isolation and Durability)"
   ]
  },
  {
   "attachments": {},
   "cell_type": "markdown",
   "metadata": {},
   "source": [
    "### 7.a Transaktioner"
   ]
  },
  {
   "attachments": {},
   "cell_type": "markdown",
   "metadata": {},
   "source": [
    "En transaktion inom databashantering är en sekvens av en eller flera databasoperationer som utförs som en enhet, antingen helt eller inte alls. Transaktioner används för att säkerställa databasens integritet och konsistens genom att garantera att en grupp av relaterade operationer antingen slutförs framgångsrikt eller återställs till sitt ursprungliga tillstånd om något går fel.\n",
    "\n",
    "En transaktion kan innehålla operationer som att lägga till, ändra eller ta bort data från en eller flera tabeller i databasen. Till exempel, om du överför pengar mellan två bankkonton, skulle en transaktion inkludera att dra pengar från ett konto och lägga till samma summa till det andra kontot. Om en del av transaktionen misslyckas (till exempel på grund av bristande tillgängliga medel), kommer hela transaktionen att återställas och inga ändringar görs.\n",
    "\n",
    "Transaktioner upprätthåller ACID-egenskaperna (Atomicity, Consistency, Isolation, Durability) för att säkerställa att databasen förblir i ett pålitligt och konsistent tillstånd, även om det uppstår avbrott eller fel under bearbetningen av operationerna."
   ]
  },
  {
   "attachments": {},
   "cell_type": "markdown",
   "metadata": {},
   "source": [
    "### 7.b ACID"
   ]
  },
  {
   "attachments": {},
   "cell_type": "markdown",
   "metadata": {},
   "source": [
    "*ACID är en förkortning som står för fyra egenskaper som krävs för att en transaktion i en databas ska vara korrekt och pålitlig:*"
   ]
  },
  {
   "attachments": {},
   "cell_type": "markdown",
   "metadata": {},
   "source": [
    "1. **Atomicity (Atomicitet):** Atomicitet säkerställer att en transaktion behandlas som en enskild, odelbar enhet. Antingen genomförs hela transaktionen eller så görs ingenting alls. Om en del av transaktionen misslyckas, återställs alla ändringar till det ursprungliga tillståndet.\n",
    "\n",
    "2. **Consistency (Konsistens):** Konsistens garanterar att en transaktion tar databasen från ett konsistent tillstånd till ett annat konsistent tillstånd. Alla regler och krav för databasens integritet och affärslogik ska uppfyllas under och efter transaktionen.\n",
    "\n",
    "3. **Isolation (Isolation/Isolering):** Isolering ser till att flera transaktioner kan köras parallellt utan att påverka varandra. Varje transaktion ska utföras som om den var den enda transaktionen som körs, även om det finns flera samtidiga transaktioner.\n",
    "\n",
    "4. **Durability (Hållbarhet):** Hållbarhet garanterar att en genomför transaktion blir permanent och inte kan gå förlorad, även om det uppstår systemfel efter att transaktionen har slutförts. Data som har ändrats i en transaktion måste sparas och vara tillgängligt även efter återstart av systemet.\n",
    "\n",
    "*Dessa fyra egenskaper tillsammans utgör en grundläggande uppsättning principer för att säkerställa pålitliga och korrekta databastransaktioner, oavsett eventuella systemfel, avbrott eller andra händelser som kan uppstå under bearbetningen.*"
   ]
  },
  {
   "attachments": {},
   "cell_type": "markdown",
   "metadata": {},
   "source": [
    "-------"
   ]
  },
  {
   "attachments": {},
   "cell_type": "markdown",
   "metadata": {},
   "source": [
    "## 8. SQL Transaktioner"
   ]
  },
  {
   "attachments": {},
   "cell_type": "markdown",
   "metadata": {},
   "source": [
    "Kommandon som används för att hantera transaktioner inom en databasmiljö. Dessa kommandon används tillsammans för att kontrollera och säkerställa att transaktioner utförs korrekt och enligt ACID-egenskaperna.\n",
    "\n",
    "Dessa kommandon ger dig en flexibel kontroll över hur du hanterar transaktioner och gör det möjligt att hantera fel och återställningar på ett effektivt sätt."
   ]
  },
  {
   "attachments": {},
   "cell_type": "markdown",
   "metadata": {},
   "source": [
    "1. `BEGIN TRANSACTION:` Detta kommando markerar början av en transaktion. Det används för att definiera en grupp av databasoperationer som ska utföras som en transaktion. När detta kommando används, identifierar systemet att alla efterföljande operationer ingår i samma transaktion.\n",
    "\n",
    "2. `COMMIT TRANSACTION:` När alla databasoperationer inom en transaktion har utförts framgångsrikt och inga fel har uppstått, används detta kommando för att bekräfta och \"commit\"a transaktionen. Det innebär att alla ändringar som gjorts i transaktionen blir permanent och sparas i databasen.\n",
    "\n",
    "3. `ROLLBACK TRANSACTION:` Om något fel inträffar under en transaktion eller om du behöver ångra ändringar som har gjorts i en pågående transaktion, används detta kommando. Det återställer alla ändringar som har gjorts i transaktionen och återgår databasen till sitt ursprungliga tillstånd innan transaktionen började.\n",
    "\n",
    "4.  `SAVEPOINT`: Detta kommando används för att sätta en \"sparningpunkt\" inom en transaktion. Det gör det möjligt att ångra vissa delar av en transaktion utan att påverka hela transaktionen.\n",
    "\n",
    "5.  `ROLLBACK TO SAVEPOINT`: Detta kommando används för att återställa transaktionen till en tidigare satt sparningpunkt, vilket gör att alla ändringar efter sparningpunkten återgår."
   ]
  },
  {
   "attachments": {},
   "cell_type": "markdown",
   "metadata": {},
   "source": [
    "-----"
   ]
  },
  {
   "attachments": {},
   "cell_type": "markdown",
   "metadata": {},
   "source": [
    "## 9. SQL Manipulering av databaser"
   ]
  },
  {
   "attachments": {},
   "cell_type": "markdown",
   "metadata": {},
   "source": [
    "Olika kategorier av SQL-kommandon som används för att hantera och manipulera databaser.\n",
    "\n",
    "1. **DCL (Data Control Language):** DCL-kommandon används för att hantera databasens säkerhet och åtkomstkontroller. De styr behörigheter och rättigheter för användare och roller.\n",
    "\n",
    "Exempel på DCL-kommandon: `GRANT`, `REVOKE`\n",
    "\n",
    "2. **DML (Data Manipulation Language):** DML-kommandon används för att manipulera data i databasen, inklusive att lägga till, ändra och ta bort data.\n",
    "\n",
    "Exempel på DML-kommandon: `SELECT`, `INSERT`, `UPDATE`, `DELETE`\n",
    "\n",
    "3. **DDL (Data Definition Language):** DDL-kommandon används för att definiera strukturen och organisationen av databasobjekt, såsom tabeller, vyer och index.\n",
    "\n",
    "Exempel på DDL-kommandon: `CREATE`, `ALTER`, `DROP`\n",
    "\n",
    "Utöver dessa tre kategorier finns också några andra kategorier av SQL-kommandon:\n",
    "\n",
    "4. **TCL (Transaction Control Language):** TCL-kommandon används för att hantera transaktioner och deras utförande.\n",
    "\n",
    "Exempel på TCL-kommandon: `COMMIT`, `ROLLBACK`, `SAVEPOINT`\n",
    "\n",
    "5. **DQL (Data Query Language):** Även om DQL inte är en officiell SQL-kategoriförkortning, används det ibland för att hänvisa till kommandon som används för att ställa frågor och hämta data från databasen.\n",
    "\n",
    "Exempel på DQL-kommandon: `SELECT`\n",
    "\n",
    "Dessa olika kategorier av kommandon ger dig möjlighet att utföra olika typer av åtgärder och kontroller i en SQL-databas."
   ]
  },
  {
   "attachments": {},
   "cell_type": "markdown",
   "metadata": {},
   "source": [
    "---------"
   ]
  },
  {
   "attachments": {},
   "cell_type": "markdown",
   "metadata": {},
   "source": [
    "## 10. Constraints"
   ]
  },
  {
   "attachments": {},
   "cell_type": "markdown",
   "metadata": {},
   "source": [
    "I databasadministration refererar \"constraint\" (begränsning) till regler och villkor som används för att definiera och upprätthålla dataintegriteten och kvaliteten i en databas. Constraints används för att specificera vilka typer av värden som är tillåtna eller inte tillåtna i en viss kolumn eller en kombination av kolumner i en tabell. Här är några vanliga typer av constraints:\n",
    "\n",
    "1. **NOT NULL Constraint:** Detta tvingar en kolumn att alltid innehålla ett värde och inte får vara tomt (NULL).\n",
    "\n",
    "2. **UNIQUE Constraint:** Detta garanterar att alla värden i en kolumn är unika över hela tabellen, så att ingen rad har samma värde i den angivna kolumnen.\n",
    "\n",
    "3. **PRIMARY KEY Constraint:** Detta kombinerar NOT NULL och UNIQUE constraints och används för att definiera en primär nyckel för en tabell. En primär nyckel identifierar unikt varje rad i tabellen.\n",
    "\n",
    "4. **FOREIGN KEY Constraint:** Detta används för att skapa en relation mellan två tabeller. Det säkerställer att värdena i en kolumn i en tabell matchar värdena i en annan tabell.\n",
    "\n",
    "5. **CHECK Constraint:** Detta används för att definiera ett villkor för vilka värden som är tillåtna i en kolumn. Om ett värde inte uppfyller det angivna villkoret, kommer det inte att tillåtas.\n",
    "\n",
    "6. **DEFAULT Constraint:** Detta används för att tilldela ett standardvärde till en kolumn om ingen annan värde anges när en rad skapas.\n",
    "\n",
    "7. **INDEX Constraint:** En indexconstraint skapar ett index på en eller flera kolumner för att snabba upp sökningar och förbättra prestanda.\n",
    "\n",
    "Dessa constraints hjälper till att säkerställa datakvalitet, integritet och relationer i en databas genom att definiera och upprätthålla regler för hur data ska lagras och bearbetas."
   ]
  },
  {
   "attachments": {},
   "cell_type": "markdown",
   "metadata": {},
   "source": [
    "Exempel:\n",
    "\n",
    "```sql \n",
    "CREATE TABLE Employees (\n",
    "    EmployeeID INT PRIMARY KEY,\n",
    "    FirstName VARCHAR(50) NOT NULL,  #NOT NULL\n",
    "    LastName VARCHAR(50) NOT NULL\n",
    ");\n",
    "\n",
    "\n",
    "CREATE TABLE Students (\n",
    "    StudentID INT PRIMARY KEY,\n",
    "    StudentName VARCHAR(50),\n",
    "    Email VARCHAR(100) UNIQUE        #UNIQUE\n",
    ");\n",
    "\n",
    "CREATE TABLE Orders (\n",
    "    OrderID INT PRIMARY KEY,         #PRIMARY KEY\n",
    "    CustomerID INT,\n",
    "    OrderDate DATE\n",
    ");\n",
    "\n",
    "CREATE TABLE Orders (\n",
    "    OrderID INT PRIMARY KEY,         #FOREIGN KEY\n",
    "    CustomerID INT,\n",
    "    OrderDate DATE,\n",
    "    FOREIGN KEY (CustomerID) REFERENCES Customers(CustomerID)\n",
    ");\n",
    "\n",
    "CREATE TABLE Employees (\n",
    "    EmployeeID INT PRIMARY KEY,\n",
    "    Salary DECIMAL(10, 2),\n",
    "    CONSTRAINT Check_Salary CHECK (Salary >= 0)    #CHECK\n",
    ");\n",
    "\n",
    "CREATE TABLE Users (\n",
    "    UserID INT PRIMARY KEY,\n",
    "    UserName VARCHAR(50),\n",
    "    RegistrationDate DATE DEFAULT GETDATE()        #DEFAULT\n",
    ");\n",
    "\n",
    "CREATE TABLE Products (\n",
    "    ProductID INT PRIMARY KEY,\n",
    "    ProductName VARCHAR(100),\n",
    "    Price DECIMAL(10, 2),\n",
    "    INDEX idx_ProductName (ProductName)            #INDEX\n",
    ");\n",
    "```"
   ]
  },
  {
   "attachments": {},
   "cell_type": "markdown",
   "metadata": {},
   "source": [
    "------------"
   ]
  },
  {
   "attachments": {},
   "cell_type": "markdown",
   "metadata": {},
   "source": [
    "## 11. Loggfil på SQL Server"
   ]
  },
  {
   "attachments": {},
   "cell_type": "markdown",
   "metadata": {},
   "source": [
    "Loggfilen i en SQL Server spelar en viktig roll när det gäller att säkerställa databasens integritet, återställning och transaktionshantering. Loggfilen lagrar sekventiella poster om alla transaktioner som utförs på databasen. Här är några viktiga roller som loggfilen har:\n",
    "\n",
    "1. **Transaktionshantering:** Loggfilen håller reda på alla databasoperationer som utförs som en del av en transaktion, inklusive insättningar, uppdateringar och borttagningar. Detta gör det möjligt att återställa databasen till ett tidigare tillstånd om en transaktion inte slutförs korrekt eller om det uppstår fel.\n",
    "\n",
    "2. **Återställning:** Loggfilen möjliggör återställning av databasen till en tidigare punkt i tiden. Om det uppstår fel, kraschar systemet eller om oavsiktliga ändringar görs, kan loggfilen användas för att återställa databasen till det senaste kända goda tillståndet.\n",
    "\n",
    "3. **Dataintegritet och ACID-egenskaper:** Loggfilen hjälper till att säkerställa ACID-egenskaperna (Atomicity, Consistency, Isolation, Durability) för databastransaktioner. Om en transaktion inte kan slutföras (till exempel på grund av en strömavbrott), används loggfilen för att återställa databasen till sitt ursprungliga tillstånd innan transaktionen började.\n",
    "\n",
    "4. **Redogörelse för ändringar:** Loggfilen ger en detaljerad redogörelse för alla ändringar som har gjorts i databasen över tiden. Detta kan vara användbart för att spåra och analysera historiken för databasoperationer.\n",
    "\n",
    "5. **Återställningspunkter:** Loggfilen kan användas för att skapa återställningspunkter eller backup-kopior av databasen. Genom att säkerhetskopiera loggfilen vid regelbundna intervall kan du säkerställa att du har en aktuell kopia av databasens tillstånd.\n",
    "\n",
    "Sammanfattningsvis fungerar loggfilen som en kronologisk inspelning av alla ändringar och transaktioner som har inträffat i databasen. Det ger säkerhet, återställningsmöjligheter och en översikt över databasens aktivitet."
   ]
  },
  {
   "attachments": {},
   "cell_type": "markdown",
   "metadata": {},
   "source": [
    "------------"
   ]
  },
  {
   "attachments": {},
   "cell_type": "markdown",
   "metadata": {},
   "source": [
    "## 12. Cursor"
   ]
  },
  {
   "attachments": {},
   "cell_type": "markdown",
   "metadata": {},
   "source": [
    "En \"cursor\" inom databashantering är en mekanism som används för att stega igenom resultaten av en SQL-fråga, en rad i taget. Cursors används vanligtvis när du behöver bearbeta varje rad i ett resultatset individuellt, ofta i en loop.\n",
    "\n",
    "1. **Öppning:** Först måste en cursor öppnas för att associera den med resultatet av en SQL-fråga. När en cursor är öppen, är den redo att stega igenom raderna i resultatet.\n",
    "\n",
    "2. **Hämtning:** Efter att en cursor är öppen, kan du använda kommandot FETCH för att hämta nästa rad i resultatsetet. Cursorn stegar igenom raderna en åt gången, så varje FETCH-kommando hämtar den aktuella raden och flyttar sedan till nästa.\n",
    "\n",
    "3. **Bearbetning:** När du har hämtat en rad med FETCH, kan du bearbeta den aktuella raden genom att använda dess kolumnvärden. Detta kan inkludera att utföra beräkningar, uppdatera data eller utföra andra operationer.\n",
    "\n",
    "4. **Stängning:** Efter att du har bearbetat alla rader i resultatet måste du stänga cursorn med kommandot CLOSE. Detta frigör resurserna som användes av cursorn.\n",
    "\n",
    "Cursors är kraftfulla verktyg, men de bör användas med försiktighet eftersom de kan påverka prestandan negativt om de inte används på rätt sätt. I många fall kan SQL-frågor och satsningar som använder uppsättningar (set-based) istället för cursorer vara mer effektiva och skapa bättre prestanda. Cursors används vanligtvis när uppsättningbaserade operationer inte är lämpliga eller möjliga."
   ]
  },
  {
   "attachments": {},
   "cell_type": "markdown",
   "metadata": {},
   "source": [
    "-----"
   ]
  },
  {
   "attachments": {},
   "cell_type": "markdown",
   "metadata": {},
   "source": [
    "## 13. Normal Formen (1NF)"
   ]
  },
  {
   "attachments": {},
   "cell_type": "markdown",
   "metadata": {},
   "source": [
    "Första normalformen (1NF) är en princip inom databasdesign som handlar om att organisera data på ett strukturerat och enhetligt sätt. I 1NF ska varje cell i en tabell innehålla ett enskilt värde och inte flera värden eller listor av värden. Med andra ord, varje attribut (kolumn) i tabellen ska innehålla endast en sorts data, och det får inte finnas upprepade värden eller samlingar av värden i en cell.\n",
    "\n",
    "1NF är viktigt eftersom det hjälper till att undvika problem som duplicering av data och otydlighet. Genom att följa 1NF kan vi säkerställa att varje enskild datavärde kan hanteras och manipuleras på ett konsekvent sätt. Det gör det också möjligt att skapa och köra mer effektiva och precisa databasfrågor.\n",
    "\n",
    "För att uppnå 1NF, behöver vi organisera data så att varje rad representerar en unik entitet eller företeelse, och varje kolumn innehåller bara ett värde som är relaterat till den entiteten. Om det finns flera värden som hör samman, bör de separeras och placeras i olika rader och kolumner.\n",
    "\n",
    "Sammanfattningsvis handlar 1NF om att förenkla och standardisera sättet vi strukturerar data i en databas, vilket leder till en bättre organisation, minskad redundans och ökad klarhet. Det är den första steget mot att bygga en välfungerande och effektiv databas."
   ]
  },
  {
   "attachments": {},
   "cell_type": "markdown",
   "metadata": {},
   "source": [
    "Normalformerna är en serie regler inom databasdesign som används för att organisera och strukturera databaser på ett sätt som minimerar redundans och bibehåller dataintegritet. Dessa regler hjälper till att skapa välstrukturerade databaser som är effektiva, lättförståeliga och underlättar hantering och underhåll av data.\n",
    "\n",
    "Det finns flera normalformer, och varje normalform bygger på de föregående och introducerar specifika krav på databasstrukturen. De vanligaste normalformerna är:\n",
    "\n",
    "1. **Första normalform (1NF):** Varje cell i en tabell måste innehålla ett enskilt värde och inte flera värden eller listor. Inga upprepade grupper av data är tillåtna.\n",
    "\n",
    "2. **Andra normalform (2NF):** Databasen måste vara i 1NF och inget icke-nyckelattribut ska vara delvis beroende av någon del av primärnyckeln.\n",
    "\n",
    "3. **Tredje normalform (3NF):** Databasen måste vara i 2NF och inget icke-nyckelattribut ska vara transitivt beroende av primärnyckeln.\n",
    "\n",
    "Det finns ytterligare normalformer som går upp till BCNF (Boyce-Codd normalform) och 4NF, 5NF, och så vidare. Varje normalform syftar till att eliminera vissa former av redundans och beroenden mellan attribut i tabeller.\n",
    "\n",
    "Att arbeta med normalformerna hjälper till att undvika problem som inkonsekvenser, onödig redundans och anomalier vid datauppdateringar och införandet av nya data. Det är dock viktigt att notera att inte alla databaser behöver vara i högsta normalform beroende på dess användningsfall och komplexitet. Databasdesignern måste göra en avvägning mellan normalformernas stränga krav och prestanda/underhållsfaktorer."
   ]
  },
  {
   "attachments": {},
   "cell_type": "markdown",
   "metadata": {},
   "source": [
    "---------"
   ]
  },
  {
   "attachments": {},
   "cell_type": "markdown",
   "metadata": {},
   "source": [
    "## 14. One-to-many, Many-to-many and Junction tables"
   ]
  },
  {
   "attachments": {},
   "cell_type": "markdown",
   "metadata": {},
   "source": [
    "### 14.a One to many (1:N)"
   ]
  },
  {
   "attachments": {},
   "cell_type": "markdown",
   "metadata": {},
   "source": [
    "**One to many** (1:N), relation beskriver hur data i två tabeller är kopplade till varandra. En one-to-many relation sker när en rad i ena tabellen är kopplad till flera rader i den andra tabellen. Te.x nedanför har Alice medlemskap i både Guld och silver.\n",
    "\n",
    "\n",
    "```sql\n",
    "Customer:\n",
    "CustomerID | CustomerName\n",
    "---------- | -------------\n",
    "1          | Alice\n",
    "2          | Bob\n",
    "\n",
    "Membership:\n",
    "MembershipID | CustomerID | MembershipType\n",
    "------------ | ---------- | --------------\n",
    "101          | 1          | Gold\n",
    "102          | 1          | Silver\n",
    "103          | 2          | Bronze\n",
    "```"
   ]
  },
  {
   "attachments": {},
   "cell_type": "markdown",
   "metadata": {},
   "source": [
    "### 14.b Many to many (N:M)"
   ]
  },
  {
   "attachments": {},
   "cell_type": "markdown",
   "metadata": {},
   "source": [
    "Är en relation mellan två tabeller i en databas där flera rader i ena tabellen är kopplad till flera rader i den adnra tabellen. Alltså, varje rad i den första tabellen kan vara kopplad till en eller flera rader i den andra tabeller och vice versa.\n",
    "\n"
   ]
  },
  {
   "attachments": {},
   "cell_type": "markdown",
   "metadata": {},
   "source": [
    "#### Students Table\n",
    "| StudentID | StudentName |\n",
    "|-----------|-------------|\n",
    "| 1         | Alice       |\n",
    "| 2         | Bob         |\n",
    "| 3         | Carol       |\n",
    "\n",
    "#### Courses Table\n",
    "| CourseID | CourseName |\n",
    "|----------|------------|\n",
    "| 101      | Math       |\n",
    "| 102      | Science    |\n",
    "| 103      | History    |\n",
    "\n",
    "#### Enrollment Table (Junction Table)\n",
    "| StudentID | CourseID |\n",
    "|-----------|----------|\n",
    "| 1         | 101      |  <!-- Alice enrolled in Math -->\n",
    "| 1         | 102      |  <!-- Alice enrolled in Science -->\n",
    "| 2         | 101      |  <!-- Bob enrolled in Math -->\n",
    "| 3         | 102      |  <!-- Carol enrolled in Science -->\n",
    "| 3         | 103      |  <!-- Carol enrolled in History -->\n",
    "\n",
    "\n",
    "Detta markdown-exempel visar hur tabellerna \"Students\", \"Courses\" och \"Enrollment\" ser ut med data. \"Enrollment\"-tabellen fungerar som en junction-tabell som kopplar studenter till de kurser de är anmälda till. Detta illustrerar \"many-to-many\" relationen mellan studenter och kurser."
   ]
  },
  {
   "attachments": {},
   "cell_type": "markdown",
   "metadata": {},
   "source": [
    "### 14.c Junction Tables"
   ]
  },
  {
   "attachments": {},
   "cell_type": "markdown",
   "metadata": {},
   "source": [
    "Junction table, också känd som \"bridge table\" eller \"join table\". Är en tabell som används i databasdesign för att hantera många-till-många-relation mellan två tabeller.\n",
    "\n",
    "Skapa ett sambandsentitet som förbinder poster från de två huvudtabellerna. Te.x \n",
    "\n",
    "Anta att det finns 2 tabeller. \"Students\" och Courses\". En student kan vara registerad för att ta flera kurser. En kurs kan även ha flera studenter. För att kunna hantera många-till-många-förhållandet måste man använda en \"junction table\". Tabellen skulle innehålla kombinatoioner av student-ID och kurs-ID för att ange vilka studenter som är registerade på kursen.\n",
    "\n",
    "```sql\n",
    "StudentCourses\n",
    "---------------\n",
    "StudentID | CourseID\n",
    "--------- | --------\n",
    "1         | 101\n",
    "1         | 102\n",
    "2         | 101\n",
    "3         | 102\n",
    "```\n",
    "\n",
    "Ovan skulle raderna \"StudentCourses\"-tabellen visa vilka studenter som är registerade för vilka kurser. Med en \"junction table\" underviker man duplicering av data och organiserar relationen på ett tydligare sätt.\n",
    "\n",
    "Sammanfattningsvis används en \"junction table\" för att hantera många-till-många-relationer genom att skapa en kopplingspunkt mellan två huvudtabeller och undvika behovet av att duplicera data eller komplicera strukturen."
   ]
  },
  {
   "attachments": {},
   "cell_type": "markdown",
   "metadata": {},
   "source": [
    "----"
   ]
  },
  {
   "attachments": {},
   "cell_type": "markdown",
   "metadata": {},
   "source": [
    "## 15. Klustrade Index"
   ]
  },
  {
   "attachments": {},
   "cell_type": "markdown",
   "metadata": {},
   "source": [
    "Ett klustrat index i en databas är en typ av indexstruktur där rader i en tabell fysiskt ordnas i samma ordning som indexet. Med andra ord, data i tabellen lagras på skivan i samma ordning som indexets ordning. Detta gör att rader som har samma värden i klustrerade indexkolumner placeras nära varandra på skivan.\n",
    "\n",
    "Fördelar med klustrade index:\n",
    "\n",
    "1. **Förbättrad sökprestanda:** Eftersom data i tabellen är ordnad i samma ordning som klustrade indexkolumner, minimeras behovet av att hoppa runt på skivan för att hitta data. Detta kan leda till snabbare sökningar och frågor.\n",
    "\n",
    "2. **Bättre intervallfrågor:** Klustrade index gynnar intervallfrågor (range queries) eftersom data med närbelägna värden ligger nära varandra på skivan.\n",
    "\n",
    "3. **Förbättrad sekventiell åtkomst:** Klustrade index gör det enklare att hämta data sekventiellt i den ordning som indexet följer.\n",
    "\n",
    "Det är dock viktigt att notera att eftersom data fysiskt ordnas enligt indexet, kan detta leda till ökad fragmentering om inmatning, uppdatering och borttagning av data sker ofta. Klustrade index fungerar bäst när data sällan ändras eller när data oftast hämtas i den ordning som indexet följer.\n",
    "\n",
    "Det är också viktigt att skilja klustrade index från icke-klustrade (icke-klustrerade) index, där data i tabellen och indexet lagras separat och ordningen av indexet påverkar inte ordningen av data på skivan."
   ]
  },
  {
   "attachments": {},
   "cell_type": "markdown",
   "metadata": {},
   "source": [
    "#### Employees Table\n",
    "| EmployeeID | FirstName | LastName | Salary   |\n",
    "|------------|-----------|----------|----------|\n",
    "| 1          | Alice     | Johnson  | 50000.00 |\n",
    "| 2          | Bob       | Smith    | 60000.00 |\n",
    "| 3          | Carol     | Williams | 55000.00 |\n",
    "\n",
    "#### Creating a Clustered Index on EmployeeID\n",
    "To create a clustered index on the \"EmployeeID\" column in the \"Employees\" table:\n",
    "\n",
    "```sql\n",
    "CREATE CLUSTERED INDEX IX_EmployeeID ON Employees(EmployeeID);\n"
   ]
  },
  {
   "attachments": {},
   "cell_type": "markdown",
   "metadata": {},
   "source": [
    "------"
   ]
  },
  {
   "attachments": {},
   "cell_type": "markdown",
   "metadata": {},
   "source": [
    "## 16. SQL - dialakter och variationer"
   ]
  },
  {
   "attachments": {},
   "cell_type": "markdown",
   "metadata": {},
   "source": [
    "Här är en lista med några relevanta SQL-dialekter och variationer:\n",
    "\n",
    "1. **ISO-SQL (ANSI-SQL):** Den standardiserade versionen av SQL fastställd av ISO.\n",
    "\n",
    "2. **T-SQL (Transact-SQL):** Utökad version av SQL som används med Microsoft SQL Server.\n",
    "\n",
    "3. **PL/SQL (Procedural Language/Structured Query Language):** Används med Oracle Database för procedurprogrammering.\n",
    "\n",
    "4. **MySQL SQL:** Dialekten som används med MySQL-databashanteraren.\n",
    "\n",
    "5. **PostgreSQL SQL:** Dialekten som används med PostgreSQL-databashanteraren.\n",
    "\n",
    "6. **PL/pgSQL:** Procedural språk för procedurprogrammering i PostgreSQL.\n",
    "\n",
    "7. **SQLite SQL:** Dialekten som används med SQLite-databashanteraren.\n",
    "\n",
    "8. **MariaDB SQL:** Dialekten som används med MariaDB, en MySQL-fork.\n",
    "\n",
    "9. **DB2 SQL:** Dialekten som används med IBM Db2-databashanteraren.\n",
    "\n",
    "10. **MS-SQL:** Förkortning för Microsoft SQL Server, som använder T-SQL.\n",
    "\n",
    "11. **Sybase SQL:** Dialekten som används med Sybase-databashanteraren.\n",
    "\n",
    "12. **Informix SQL:** Dialekten som används med IBM Informix-databashanteraren.\n",
    "\n",
    "Dessa är några exempel på SQL-dialekter som används med olika databashanterare. Varje databashanterare kan ha sina egna specifika funktioner och kommandon som passar dess unika egenskaper och användningsfall."
   ]
  },
  {
   "attachments": {},
   "cell_type": "markdown",
   "metadata": {},
   "source": [
    "----"
   ]
  },
  {
   "attachments": {},
   "cell_type": "markdown",
   "metadata": {},
   "source": [
    "## 17. SQL & NoSQL"
   ]
  },
  {
   "attachments": {},
   "cell_type": "markdown",
   "metadata": {},
   "source": [
    "**SQL (Structured Query Language)** och **NoSQL (Not Only SQL)** är två olika typer av databashanteringskoncept med olika egenskaper och användningsområden.\n",
    "\n",
    "**SQL:**\n",
    "- **Centraliserad arkitektur:** SQL-databashanterare, som relationsdatabaser, använder ofta en centraliserad arkitektur där all data lagras i tabeller med strikta relationer.\n",
    "- **Semistrukturerad data:** SQL hanterar strukturerad data med fördefinierade tabellscheman och relationer. Detta gör det mindre flexibelt när det gäller att lagra varierande dataformat.\n",
    "- **Denormaliserad data:** I SQL-databaser normaliseras ofta data för att minimera redundans och säkerställa dataintegritet genom normaliseringsprocessen.\n",
    "- **ACID:** SQL-databaser följer ACID-egenskaperna (Atomicity, Consistency, Isolation, Durability) för att säkerställa transaktionsintegritet och datakonsistens.\n",
    "- **Hög dataintegritet:** Genom normalisering och relationsmodellen kan SQL-databaser upprätthålla hög dataintegritet och säkerställa att data är korrekt och konsistent.\n",
    "\n",
    "**NoSQL:**\n",
    "- **Distributed Architecture (Distribuerad arkitektur):** NoSQL-databaser använder ofta en distribuerad arkitektur för att hantera stora datavolymer och hög belastning.\n",
    "- **Semistrukturerad data:** NoSQL hanterar semistrukturerad och ostrukturerad data mer flexibelt än SQL-databaser, vilket gör det mer lämpat för varierande datatyper.\n",
    "- **Denormaliserad data:** NoSQL-databaser förespråkar ofta denormaliserad datastrukturering för att optimera prestanda och skalbarhet.\n",
    "- **BASE:** NoSQL-databaser följer BASE-principerna (Basically Available, Soft state, Eventually consistent) som prioriterar tillgänglighet och skapar möjlighet till eventual consistency istället för strikt konsistens som i ACID.\n",
    "- **Horisontell skalbarhet:** NoSQL-databaser är ofta utformade för att vara horisontellt skalbara, vilket innebär att de kan hantera ökad belastning genom att lägga till fler servrar eller noder i klustret.\n",
    "- **Hög datamängd och snabb åtkomst:** NoSQL-databaser är effektiva för att hantera stora datamängder och snabb dataåtkomst genom sin skalbarhet och flexibla datamodell.\n",
    "\n",
    "Sammanfattningsvis kan man säga att SQL och NoSQL representerar två olika filosofier när det gäller databashantering. SQL är lämpligt för data med strikta relationer och krav på dataintegritet, medan NoSQL är mer lämpat för hantering av stora datamängder, snabb dataåtkomst och hantering av varierande datatyper i en distribuerad miljö. Valet mellan SQL och NoSQL beror på de specifika kraven och användningsfallen för varje applikation."
   ]
  },
  {
   "attachments": {},
   "cell_type": "markdown",
   "metadata": {},
   "source": [
    "----"
   ]
  },
  {
   "attachments": {},
   "cell_type": "markdown",
   "metadata": {},
   "source": [
    "## 18. Keys"
   ]
  },
  {
   "attachments": {},
   "cell_type": "markdown",
   "metadata": {},
   "source": [
    "**Primary Key (Primärnyckel):**\n",
    "En primärnyckel är en unik identifierare för varje rad i en tabell i en relationsdatabas. Den används för att säkerställa att varje rad i tabellen har en unik identifierare och för att etablera en koppling mellan olika tabeller genom att fungera som referens för andra tabeller. En primärnyckel kan vara en eller flera kolumner och den garanterar att det inte kan finnas duplicerade värden i dessa kolumner. Primärnycklar används för att säkerställa dataintegritet och identifiera varje rad på ett unikt sätt.\n",
    "\n",
    "**Foreign Key (Förignyckel):**\n",
    "En främmande nyckel är en kolumn eller en uppsättning kolumner i en tabell som refererar till primärnyckeln i en annan tabell. Det används för att skapa relationer mellan tabeller i en relationsdatabas. Genom att definiera en förignyckel skapas en referential integritet som garanterar att det bara går att lägga till värden i förignyckeln som redan existerar i den associerade primärnyckeln. På detta sätt kan data mellan tabeller kopplas ihop och datakonsistens upprätthållas.\n",
    "\n",
    "*Sammanfattningsvis är en primärnyckel en unik identifierare för varje rad i en tabell, medan en förignyckel är en kolumn som refererar till en primärnyckel i en annan tabell för att etablera relationer mellan tabeller.*"
   ]
  },
  {
   "attachments": {},
   "cell_type": "markdown",
   "metadata": {},
   "source": [
    "----"
   ]
  },
  {
   "attachments": {},
   "cell_type": "markdown",
   "metadata": {},
   "source": [
    "## 19. DBMS Typer"
   ]
  },
  {
   "attachments": {},
   "cell_type": "markdown",
   "metadata": {},
   "source": [
    "Här är tre av de allra vanligaste typerna av databashanterare med exempel på specifika DBMS för varje typ:\n",
    "\n",
    "1. **Dokumentdatabas:**\n",
    "   - Exempel: MongoDB\n",
    "   - Beskrivning: Dokumentdatabaser lagrar data i flexibla dokumentformat, vilket är idealiskt för hantering av semistrukturerad och ostrukturerad data. Varje dokument kan innehålla olika datatyper och strukturer.\n",
    "\n",
    "2. **Kolumnorienterad databas:**\n",
    "   - Exempel: Apache Cassandra\n",
    "   - Beskrivning: Kolumnorienterade databaser lagrar data i kolumner istället för traditionella rader. De är särskilt bra för storskalig dataanalys och kan hantera stora datavolymer med hög hastighet.\n",
    "\n",
    "3. **Grafdatabas:**\n",
    "   - Exempel: Neo4j\n",
    "   - Beskrivning: Grafdatabaser är utformade för att lagra data som noder och relationer, vilket gör dem idealiska för att hantera data med komplexa relationer, som sociala nätverk eller rekommendationssystem.\n",
    "\n",
    "Dessa typer av databashanterare ger en bredare förståelse för olika sätt att lagra och hantera data beroende på användningsfall och datamodell."
   ]
  },
  {
   "attachments": {},
   "cell_type": "markdown",
   "metadata": {},
   "source": [
    "------"
   ]
  }
 ],
 "metadata": {
  "kernelspec": {
   "display_name": "Databaser-Hannes-Hedberg-jFWIiv51",
   "language": "python",
   "name": "python3"
  },
  "language_info": {
   "name": "python",
   "version": "3.9.13"
  },
  "orig_nbformat": 4
 },
 "nbformat": 4,
 "nbformat_minor": 2
}
